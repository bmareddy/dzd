{
 "cells": [
  {
   "attachments": {},
   "cell_type": "markdown",
   "metadata": {},
   "source": [
    "# Sample Data Understanding\n",
    "The goal of this exercise is to explore the source data sets - `PhenotypeData.csv` and `CollectionData.csv` - and understand the schema, data types and relationships. This will inform the data model design"
   ]
  },
  {
   "cell_type": "code",
   "execution_count": 1,
   "metadata": {},
   "outputs": [],
   "source": [
    "import pandas as pd\n",
    "import os\n",
    "\n",
    "source_collections = os.path.join(os.getcwd(),'source_data\\CollectionsData.csv')\n",
    "source_phenotype = os.path.join(os.getcwd(),'source_data\\PhenotypeData.csv')"
   ]
  },
  {
   "attachments": {},
   "cell_type": "markdown",
   "metadata": {},
   "source": [
    "## Collections Data"
   ]
  },
  {
   "cell_type": "code",
   "execution_count": 2,
   "metadata": {},
   "outputs": [
    {
     "data": {
      "text/html": [
       "<div>\n",
       "<style scoped>\n",
       "    .dataframe tbody tr th:only-of-type {\n",
       "        vertical-align: middle;\n",
       "    }\n",
       "\n",
       "    .dataframe tbody tr th {\n",
       "        vertical-align: top;\n",
       "    }\n",
       "\n",
       "    .dataframe thead th {\n",
       "        text-align: right;\n",
       "    }\n",
       "</style>\n",
       "<table border=\"1\" class=\"dataframe\">\n",
       "  <thead>\n",
       "    <tr style=\"text-align: right;\">\n",
       "      <th></th>\n",
       "      <th>sampid</th>\n",
       "      <th>HID</th>\n",
       "      <th>Isolate # (blank  = \"1\")</th>\n",
       "      <th>Date Collected</th>\n",
       "    </tr>\n",
       "  </thead>\n",
       "  <tbody>\n",
       "    <tr>\n",
       "      <th>0</th>\n",
       "      <td>dzd-1</td>\n",
       "      <td>6662880545010918781</td>\n",
       "      <td>NaN</td>\n",
       "      <td>7/30/18</td>\n",
       "    </tr>\n",
       "    <tr>\n",
       "      <th>1</th>\n",
       "      <td>dzd-2</td>\n",
       "      <td>6662880545010918781</td>\n",
       "      <td>NaN</td>\n",
       "      <td>7/30/18</td>\n",
       "    </tr>\n",
       "    <tr>\n",
       "      <th>2</th>\n",
       "      <td>dzd-3</td>\n",
       "      <td>7662883545019918757</td>\n",
       "      <td>NaN</td>\n",
       "      <td>7/30/18</td>\n",
       "    </tr>\n",
       "    <tr>\n",
       "      <th>3</th>\n",
       "      <td>dzd-4</td>\n",
       "      <td>219934676530263734</td>\n",
       "      <td>NaN</td>\n",
       "      <td>7/30/18</td>\n",
       "    </tr>\n",
       "    <tr>\n",
       "      <th>4</th>\n",
       "      <td>dzd-5</td>\n",
       "      <td>219928676527263683</td>\n",
       "      <td>NaN</td>\n",
       "      <td>7/30/18</td>\n",
       "    </tr>\n",
       "  </tbody>\n",
       "</table>\n",
       "</div>"
      ],
      "text/plain": [
       "  sampid                  HID  Isolate # (blank  = \"1\") Date Collected\n",
       "0  dzd-1  6662880545010918781                       NaN        7/30/18\n",
       "1  dzd-2  6662880545010918781                       NaN        7/30/18\n",
       "2  dzd-3  7662883545019918757                       NaN        7/30/18\n",
       "3  dzd-4   219934676530263734                       NaN        7/30/18\n",
       "4  dzd-5   219928676527263683                       NaN        7/30/18"
      ]
     },
     "execution_count": 2,
     "metadata": {},
     "output_type": "execute_result"
    }
   ],
   "source": [
    "df_collections = pd.read_csv(source_collections)\n",
    "df_collections.head()"
   ]
  },
  {
   "cell_type": "code",
   "execution_count": 5,
   "metadata": {},
   "outputs": [
    {
     "data": {
      "text/html": [
       "<div>\n",
       "<style scoped>\n",
       "    .dataframe tbody tr th:only-of-type {\n",
       "        vertical-align: middle;\n",
       "    }\n",
       "\n",
       "    .dataframe tbody tr th {\n",
       "        vertical-align: top;\n",
       "    }\n",
       "\n",
       "    .dataframe thead th {\n",
       "        text-align: right;\n",
       "    }\n",
       "</style>\n",
       "<table border=\"1\" class=\"dataframe\">\n",
       "  <thead>\n",
       "    <tr style=\"text-align: right;\">\n",
       "      <th></th>\n",
       "      <th>sampid</th>\n",
       "      <th>HID</th>\n",
       "      <th>Isolate # (blank  = \"1\")</th>\n",
       "      <th>Date Collected</th>\n",
       "    </tr>\n",
       "  </thead>\n",
       "  <tbody>\n",
       "    <tr>\n",
       "      <th>count</th>\n",
       "      <td>1648</td>\n",
       "      <td>1.648000e+03</td>\n",
       "      <td>299.000000</td>\n",
       "      <td>1648</td>\n",
       "    </tr>\n",
       "    <tr>\n",
       "      <th>unique</th>\n",
       "      <td>1648</td>\n",
       "      <td>NaN</td>\n",
       "      <td>NaN</td>\n",
       "      <td>12</td>\n",
       "    </tr>\n",
       "    <tr>\n",
       "      <th>top</th>\n",
       "      <td>dzd-1</td>\n",
       "      <td>NaN</td>\n",
       "      <td>NaN</td>\n",
       "      <td>10/7/18</td>\n",
       "    </tr>\n",
       "    <tr>\n",
       "      <th>freq</th>\n",
       "      <td>1</td>\n",
       "      <td>NaN</td>\n",
       "      <td>NaN</td>\n",
       "      <td>288</td>\n",
       "    </tr>\n",
       "    <tr>\n",
       "      <th>mean</th>\n",
       "      <td>NaN</td>\n",
       "      <td>4.492027e+18</td>\n",
       "      <td>2.545151</td>\n",
       "      <td>NaN</td>\n",
       "    </tr>\n",
       "    <tr>\n",
       "      <th>std</th>\n",
       "      <td>NaN</td>\n",
       "      <td>2.710123e+18</td>\n",
       "      <td>1.020167</td>\n",
       "      <td>NaN</td>\n",
       "    </tr>\n",
       "    <tr>\n",
       "      <th>min</th>\n",
       "      <td>NaN</td>\n",
       "      <td>1.652753e+16</td>\n",
       "      <td>2.000000</td>\n",
       "      <td>NaN</td>\n",
       "    </tr>\n",
       "    <tr>\n",
       "      <th>25%</th>\n",
       "      <td>NaN</td>\n",
       "      <td>2.105663e+18</td>\n",
       "      <td>2.000000</td>\n",
       "      <td>NaN</td>\n",
       "    </tr>\n",
       "    <tr>\n",
       "      <th>50%</th>\n",
       "      <td>NaN</td>\n",
       "      <td>4.320262e+18</td>\n",
       "      <td>2.000000</td>\n",
       "      <td>NaN</td>\n",
       "    </tr>\n",
       "    <tr>\n",
       "      <th>75%</th>\n",
       "      <td>NaN</td>\n",
       "      <td>6.883161e+18</td>\n",
       "      <td>3.000000</td>\n",
       "      <td>NaN</td>\n",
       "    </tr>\n",
       "    <tr>\n",
       "      <th>max</th>\n",
       "      <td>NaN</td>\n",
       "      <td>9.221808e+18</td>\n",
       "      <td>9.000000</td>\n",
       "      <td>NaN</td>\n",
       "    </tr>\n",
       "  </tbody>\n",
       "</table>\n",
       "</div>"
      ],
      "text/plain": [
       "       sampid           HID  Isolate # (blank  = \"1\") Date Collected\n",
       "count    1648  1.648000e+03                299.000000           1648\n",
       "unique   1648           NaN                       NaN             12\n",
       "top     dzd-1           NaN                       NaN        10/7/18\n",
       "freq        1           NaN                       NaN            288\n",
       "mean      NaN  4.492027e+18                  2.545151            NaN\n",
       "std       NaN  2.710123e+18                  1.020167            NaN\n",
       "min       NaN  1.652753e+16                  2.000000            NaN\n",
       "25%       NaN  2.105663e+18                  2.000000            NaN\n",
       "50%       NaN  4.320262e+18                  2.000000            NaN\n",
       "75%       NaN  6.883161e+18                  3.000000            NaN\n",
       "max       NaN  9.221808e+18                  9.000000            NaN"
      ]
     },
     "execution_count": 5,
     "metadata": {},
     "output_type": "execute_result"
    }
   ],
   "source": [
    "df_collections.describe(include='all')"
   ]
  },
  {
   "cell_type": "code",
   "execution_count": 7,
   "metadata": {},
   "outputs": [],
   "source": [
    "df_collections.rename({'Isolate # (blank = \"1\")': 'isolate', 'Date Collected': 'date_collected'}, axis='columns', inplace=True)"
   ]
  },
  {
   "cell_type": "code",
   "execution_count": 9,
   "metadata": {},
   "outputs": [
    {
     "data": {
      "text/html": [
       "<div>\n",
       "<style scoped>\n",
       "    .dataframe tbody tr th:only-of-type {\n",
       "        vertical-align: middle;\n",
       "    }\n",
       "\n",
       "    .dataframe tbody tr th {\n",
       "        vertical-align: top;\n",
       "    }\n",
       "\n",
       "    .dataframe thead th {\n",
       "        text-align: right;\n",
       "    }\n",
       "</style>\n",
       "<table border=\"1\" class=\"dataframe\">\n",
       "  <thead>\n",
       "    <tr style=\"text-align: right;\">\n",
       "      <th></th>\n",
       "      <th>sampid</th>\n",
       "      <th>HID</th>\n",
       "      <th>Isolate # (blank  = \"1\")</th>\n",
       "      <th>date_collected</th>\n",
       "    </tr>\n",
       "  </thead>\n",
       "  <tbody>\n",
       "    <tr>\n",
       "      <th>0</th>\n",
       "      <td>dzd-1</td>\n",
       "      <td>6662880545010918781</td>\n",
       "      <td>NaN</td>\n",
       "      <td>7/30/18</td>\n",
       "    </tr>\n",
       "    <tr>\n",
       "      <th>1</th>\n",
       "      <td>dzd-2</td>\n",
       "      <td>6662880545010918781</td>\n",
       "      <td>NaN</td>\n",
       "      <td>7/30/18</td>\n",
       "    </tr>\n",
       "    <tr>\n",
       "      <th>2</th>\n",
       "      <td>dzd-3</td>\n",
       "      <td>7662883545019918757</td>\n",
       "      <td>NaN</td>\n",
       "      <td>7/30/18</td>\n",
       "    </tr>\n",
       "    <tr>\n",
       "      <th>3</th>\n",
       "      <td>dzd-4</td>\n",
       "      <td>219934676530263734</td>\n",
       "      <td>NaN</td>\n",
       "      <td>7/30/18</td>\n",
       "    </tr>\n",
       "    <tr>\n",
       "      <th>4</th>\n",
       "      <td>dzd-5</td>\n",
       "      <td>219928676527263683</td>\n",
       "      <td>NaN</td>\n",
       "      <td>7/30/18</td>\n",
       "    </tr>\n",
       "  </tbody>\n",
       "</table>\n",
       "</div>"
      ],
      "text/plain": [
       "  sampid                  HID  Isolate # (blank  = \"1\") date_collected\n",
       "0  dzd-1  6662880545010918781                       NaN        7/30/18\n",
       "1  dzd-2  6662880545010918781                       NaN        7/30/18\n",
       "2  dzd-3  7662883545019918757                       NaN        7/30/18\n",
       "3  dzd-4   219934676530263734                       NaN        7/30/18\n",
       "4  dzd-5   219928676527263683                       NaN        7/30/18"
      ]
     },
     "execution_count": 9,
     "metadata": {},
     "output_type": "execute_result"
    }
   ],
   "source": [
    "df_collections.head()"
   ]
  },
  {
   "cell_type": "code",
   "execution_count": 10,
   "metadata": {},
   "outputs": [
    {
     "data": {
      "text/html": [
       "<div>\n",
       "<style scoped>\n",
       "    .dataframe tbody tr th:only-of-type {\n",
       "        vertical-align: middle;\n",
       "    }\n",
       "\n",
       "    .dataframe tbody tr th {\n",
       "        vertical-align: top;\n",
       "    }\n",
       "\n",
       "    .dataframe thead th {\n",
       "        text-align: right;\n",
       "    }\n",
       "</style>\n",
       "<table border=\"1\" class=\"dataframe\">\n",
       "  <thead>\n",
       "    <tr style=\"text-align: right;\">\n",
       "      <th></th>\n",
       "      <th>sampid</th>\n",
       "      <th>hid</th>\n",
       "      <th>isolate</th>\n",
       "      <th>date_collected</th>\n",
       "    </tr>\n",
       "  </thead>\n",
       "  <tbody>\n",
       "    <tr>\n",
       "      <th>0</th>\n",
       "      <td>dzd-1</td>\n",
       "      <td>6662880545010918781</td>\n",
       "      <td>NaN</td>\n",
       "      <td>7/30/18</td>\n",
       "    </tr>\n",
       "  </tbody>\n",
       "</table>\n",
       "</div>"
      ],
      "text/plain": [
       "  sampid                  hid  isolate date_collected\n",
       "0  dzd-1  6662880545010918781      NaN        7/30/18"
      ]
     },
     "execution_count": 10,
     "metadata": {},
     "output_type": "execute_result"
    }
   ],
   "source": [
    "df_collections.columns = ['sampid', 'hid', 'isolate', 'date_collected']\n",
    "df_collections.head(1)"
   ]
  },
  {
   "cell_type": "code",
   "execution_count": 11,
   "metadata": {},
   "outputs": [
    {
     "data": {
      "text/html": [
       "<div>\n",
       "<style scoped>\n",
       "    .dataframe tbody tr th:only-of-type {\n",
       "        vertical-align: middle;\n",
       "    }\n",
       "\n",
       "    .dataframe tbody tr th {\n",
       "        vertical-align: top;\n",
       "    }\n",
       "\n",
       "    .dataframe thead th {\n",
       "        text-align: right;\n",
       "    }\n",
       "</style>\n",
       "<table border=\"1\" class=\"dataframe\">\n",
       "  <thead>\n",
       "    <tr style=\"text-align: right;\">\n",
       "      <th></th>\n",
       "      <th>sampid</th>\n",
       "      <th>hid</th>\n",
       "      <th>isolate</th>\n",
       "      <th>date_collected</th>\n",
       "    </tr>\n",
       "  </thead>\n",
       "  <tbody>\n",
       "    <tr>\n",
       "      <th>0</th>\n",
       "      <td>dzd-1</td>\n",
       "      <td>6662880545010918781</td>\n",
       "      <td>1.0</td>\n",
       "      <td>7/30/18</td>\n",
       "    </tr>\n",
       "    <tr>\n",
       "      <th>1</th>\n",
       "      <td>dzd-2</td>\n",
       "      <td>6662880545010918781</td>\n",
       "      <td>1.0</td>\n",
       "      <td>7/30/18</td>\n",
       "    </tr>\n",
       "  </tbody>\n",
       "</table>\n",
       "</div>"
      ],
      "text/plain": [
       "  sampid                  hid  isolate date_collected\n",
       "0  dzd-1  6662880545010918781      1.0        7/30/18\n",
       "1  dzd-2  6662880545010918781      1.0        7/30/18"
      ]
     },
     "execution_count": 11,
     "metadata": {},
     "output_type": "execute_result"
    }
   ],
   "source": [
    "df_collections['isolate'] = df_collections.isolate.fillna(1)\n",
    "df_collections.head(2)"
   ]
  },
  {
   "attachments": {},
   "cell_type": "markdown",
   "metadata": {},
   "source": [
    "### So far...\n",
    "1. dataset contains 1648 rows. `sampid` is unique across the dataset\n",
    "2. `HID` and `Date Collected` do not have any `NULL`s\n",
    "3. Filled blanks in `isolate` with `1`\n",
    "\n",
    "### to determine\n",
    "1. Is the combination of `hid+isolate` unique?\n",
    "2. What date range does the data correspond to?"
   ]
  },
  {
   "cell_type": "code",
   "execution_count": 14,
   "metadata": {},
   "outputs": [
    {
     "data": {
      "text/html": [
       "<div>\n",
       "<style scoped>\n",
       "    .dataframe tbody tr th:only-of-type {\n",
       "        vertical-align: middle;\n",
       "    }\n",
       "\n",
       "    .dataframe tbody tr th {\n",
       "        vertical-align: top;\n",
       "    }\n",
       "\n",
       "    .dataframe thead th {\n",
       "        text-align: right;\n",
       "    }\n",
       "</style>\n",
       "<table border=\"1\" class=\"dataframe\">\n",
       "  <thead>\n",
       "    <tr style=\"text-align: right;\">\n",
       "      <th></th>\n",
       "      <th>hid</th>\n",
       "      <th>isolate</th>\n",
       "      <th>count</th>\n",
       "    </tr>\n",
       "  </thead>\n",
       "  <tbody>\n",
       "    <tr>\n",
       "      <th>0</th>\n",
       "      <td>3662881545109918953</td>\n",
       "      <td>1.0</td>\n",
       "      <td>3</td>\n",
       "    </tr>\n",
       "    <tr>\n",
       "      <th>1</th>\n",
       "      <td>1904146365886763004</td>\n",
       "      <td>1.0</td>\n",
       "      <td>3</td>\n",
       "    </tr>\n",
       "    <tr>\n",
       "      <th>2</th>\n",
       "      <td>2105669412858572953</td>\n",
       "      <td>1.0</td>\n",
       "      <td>2</td>\n",
       "    </tr>\n",
       "    <tr>\n",
       "      <th>3</th>\n",
       "      <td>8662889545020918780</td>\n",
       "      <td>1.0</td>\n",
       "      <td>2</td>\n",
       "    </tr>\n",
       "    <tr>\n",
       "      <th>4</th>\n",
       "      <td>2457907026153730647</td>\n",
       "      <td>1.0</td>\n",
       "      <td>2</td>\n",
       "    </tr>\n",
       "  </tbody>\n",
       "</table>\n",
       "</div>"
      ],
      "text/plain": [
       "                   hid  isolate  count\n",
       "0  3662881545109918953      1.0      3\n",
       "1  1904146365886763004      1.0      3\n",
       "2  2105669412858572953      1.0      2\n",
       "3  8662889545020918780      1.0      2\n",
       "4  2457907026153730647      1.0      2"
      ]
     },
     "execution_count": 14,
     "metadata": {},
     "output_type": "execute_result"
    }
   ],
   "source": [
    "df_temp = df_collections[['hid', 'isolate']].value_counts().reset_index(name='count')\n",
    "df_temp.head()"
   ]
  },
  {
   "cell_type": "code",
   "execution_count": 17,
   "metadata": {},
   "outputs": [
    {
     "data": {
      "text/plain": [
       "19"
      ]
     },
     "execution_count": 17,
     "metadata": {},
     "output_type": "execute_result"
    }
   ],
   "source": [
    "len(df_temp[df_temp['count'] > 1])"
   ]
  },
  {
   "cell_type": "code",
   "execution_count": 21,
   "metadata": {},
   "outputs": [
    {
     "data": {
      "text/plain": [
       "0      2018-07-30\n",
       "1      2018-07-30\n",
       "2      2018-07-30\n",
       "3      2018-07-30\n",
       "4      2018-07-30\n",
       "          ...    \n",
       "1643   2018-11-27\n",
       "1644   2018-11-27\n",
       "1645   2018-11-27\n",
       "1646   2018-11-27\n",
       "1647   2018-11-27\n",
       "Name: date_collected, Length: 1648, dtype: datetime64[ns]"
      ]
     },
     "execution_count": 21,
     "metadata": {},
     "output_type": "execute_result"
    }
   ],
   "source": [
    "pd.to_datetime(df_collections['date_collected'])"
   ]
  },
  {
   "cell_type": "code",
   "execution_count": 24,
   "metadata": {},
   "outputs": [
    {
     "name": "stderr",
     "output_type": "stream",
     "text": [
      "C:\\Users\\bmare\\AppData\\Local\\Temp\\ipykernel_23224\\2192369267.py:2: FutureWarning: Treating datetime data as categorical rather than numeric in `.describe` is deprecated and will be removed in a future version of pandas. Specify `datetime_is_numeric=True` to silence this warning and adopt the future behavior now.\n",
      "  df_collections['date_collected'].describe()\n"
     ]
    },
    {
     "data": {
      "text/plain": [
       "count                    1648\n",
       "unique                     12\n",
       "top       2018-10-07 00:00:00\n",
       "freq                      288\n",
       "first     2018-07-30 00:00:00\n",
       "last      2018-11-27 00:00:00\n",
       "Name: date_collected, dtype: object"
      ]
     },
     "execution_count": 24,
     "metadata": {},
     "output_type": "execute_result"
    }
   ],
   "source": [
    "df_collections['date_collected'] = pd.to_datetime(df_collections['date_collected'])\n",
    "df_collections['date_collected'].describe()"
   ]
  },
  {
   "attachments": {},
   "cell_type": "markdown",
   "metadata": {},
   "source": [
    "### Conclusion \n",
    "* Data is collected between 2018 July 30th and Novermber 27th\n",
    "* There are 19 combinations of `hid + isolate` that map to more than one `sampid`\n",
    "    * 1608 out of the 1648 are uniquely identifiable using `hid + isolate`\n"
   ]
  },
  {
   "attachments": {},
   "cell_type": "markdown",
   "metadata": {},
   "source": [
    "## Phenotype Data"
   ]
  },
  {
   "cell_type": "code",
   "execution_count": 25,
   "metadata": {},
   "outputs": [
    {
     "data": {
      "text/html": [
       "<div>\n",
       "<style scoped>\n",
       "    .dataframe tbody tr th:only-of-type {\n",
       "        vertical-align: middle;\n",
       "    }\n",
       "\n",
       "    .dataframe tbody tr th {\n",
       "        vertical-align: top;\n",
       "    }\n",
       "\n",
       "    .dataframe thead th {\n",
       "        text-align: right;\n",
       "    }\n",
       "</style>\n",
       "<table border=\"1\" class=\"dataframe\">\n",
       "  <thead>\n",
       "    <tr style=\"text-align: right;\">\n",
       "      <th></th>\n",
       "      <th>HID</th>\n",
       "      <th>Isolate</th>\n",
       "      <th>Received</th>\n",
       "      <th>Organism</th>\n",
       "      <th>Source</th>\n",
       "      <th>Test</th>\n",
       "      <th>Antibiotic</th>\n",
       "      <th>Value</th>\n",
       "      <th>Antibiotic Interpretation</th>\n",
       "      <th>Method</th>\n",
       "    </tr>\n",
       "  </thead>\n",
       "  <tbody>\n",
       "    <tr>\n",
       "      <th>0</th>\n",
       "      <td>5513475385954145565</td>\n",
       "      <td>ISO2</td>\n",
       "      <td>07/01/2018 0129</td>\n",
       "      <td>Citrobacter freundii</td>\n",
       "      <td>Wound</td>\n",
       "      <td>Susceptibility</td>\n",
       "      <td>Tobramycin</td>\n",
       "      <td>8</td>\n",
       "      <td>Intermediate</td>\n",
       "      <td>VITEK II</td>\n",
       "    </tr>\n",
       "    <tr>\n",
       "      <th>1</th>\n",
       "      <td>5513475385954145565</td>\n",
       "      <td>ISO3</td>\n",
       "      <td>07/01/2018 0129</td>\n",
       "      <td>Proteus vulgaris/penneri</td>\n",
       "      <td>Wound</td>\n",
       "      <td>Susceptibility</td>\n",
       "      <td>Nitrofurantoin</td>\n",
       "      <td>128</td>\n",
       "      <td>Resistant</td>\n",
       "      <td>VITEK II; MYLA</td>\n",
       "    </tr>\n",
       "    <tr>\n",
       "      <th>2</th>\n",
       "      <td>5513475385954145565</td>\n",
       "      <td>ISO2</td>\n",
       "      <td>07/01/2018 0129</td>\n",
       "      <td>Citrobacter freundii</td>\n",
       "      <td>Wound</td>\n",
       "      <td>Susceptibility</td>\n",
       "      <td>Cefazolin</td>\n",
       "      <td>&lt;=4</td>\n",
       "      <td>Resistant</td>\n",
       "      <td>VITEK II</td>\n",
       "    </tr>\n",
       "  </tbody>\n",
       "</table>\n",
       "</div>"
      ],
      "text/plain": [
       "                   HID Isolate         Received                  Organism  \\\n",
       "0  5513475385954145565    ISO2  07/01/2018 0129      Citrobacter freundii   \n",
       "1  5513475385954145565    ISO3  07/01/2018 0129  Proteus vulgaris/penneri   \n",
       "2  5513475385954145565    ISO2  07/01/2018 0129      Citrobacter freundii   \n",
       "\n",
       "  Source            Test      Antibiotic Value Antibiotic Interpretation  \\\n",
       "0  Wound  Susceptibility      Tobramycin     8              Intermediate   \n",
       "1  Wound  Susceptibility  Nitrofurantoin   128                 Resistant   \n",
       "2  Wound  Susceptibility       Cefazolin   <=4                 Resistant   \n",
       "\n",
       "            Method  \n",
       "0         VITEK II  \n",
       "1   VITEK II; MYLA  \n",
       "2         VITEK II  "
      ]
     },
     "execution_count": 25,
     "metadata": {},
     "output_type": "execute_result"
    }
   ],
   "source": [
    "df_pheno = pd.read_csv(source_phenotype)\n",
    "df_pheno.head(3)"
   ]
  },
  {
   "cell_type": "code",
   "execution_count": 26,
   "metadata": {},
   "outputs": [
    {
     "name": "stdout",
     "output_type": "stream",
     "text": [
      "<class 'pandas.core.frame.DataFrame'>\n",
      "RangeIndex: 56372 entries, 0 to 56371\n",
      "Data columns (total 10 columns):\n",
      " #   Column                     Non-Null Count  Dtype \n",
      "---  ------                     --------------  ----- \n",
      " 0   HID                        56372 non-null  int64 \n",
      " 1   Isolate                    56372 non-null  object\n",
      " 2   Received                   56372 non-null  object\n",
      " 3   Organism                   56372 non-null  object\n",
      " 4   Source                     54864 non-null  object\n",
      " 5   Test                       56372 non-null  object\n",
      " 6   Antibiotic                 56372 non-null  object\n",
      " 7   Value                      55834 non-null  object\n",
      " 8   Antibiotic Interpretation  52601 non-null  object\n",
      " 9   Method                     56372 non-null  object\n",
      "dtypes: int64(1), object(9)\n",
      "memory usage: 4.3+ MB\n"
     ]
    }
   ],
   "source": [
    "df_pheno.info()"
   ]
  },
  {
   "cell_type": "code",
   "execution_count": 27,
   "metadata": {},
   "outputs": [
    {
     "name": "stdout",
     "output_type": "stream",
     "text": [
      "<class 'pandas.core.frame.DataFrame'>\n",
      "RangeIndex: 3808 entries, 0 to 3807\n",
      "Data columns (total 3 columns):\n",
      " #   Column   Non-Null Count  Dtype \n",
      "---  ------   --------------  ----- \n",
      " 0   HID      3808 non-null   int64 \n",
      " 1   Isolate  3808 non-null   object\n",
      " 2   count    3808 non-null   int64 \n",
      "dtypes: int64(2), object(1)\n",
      "memory usage: 89.4+ KB\n"
     ]
    }
   ],
   "source": [
    "df_temp = df_pheno[['HID', 'Isolate']].value_counts().reset_index(name='count')\n",
    "df_temp.info()"
   ]
  },
  {
   "cell_type": "code",
   "execution_count": 28,
   "metadata": {},
   "outputs": [
    {
     "name": "stdout",
     "output_type": "stream",
     "text": [
      "<class 'pandas.core.frame.DataFrame'>\n",
      "RangeIndex: 56008 entries, 0 to 56007\n",
      "Data columns (total 4 columns):\n",
      " #   Column      Non-Null Count  Dtype \n",
      "---  ------      --------------  ----- \n",
      " 0   HID         56008 non-null  int64 \n",
      " 1   Isolate     56008 non-null  object\n",
      " 2   Antibiotic  56008 non-null  object\n",
      " 3   count       56008 non-null  int64 \n",
      "dtypes: int64(2), object(2)\n",
      "memory usage: 1.7+ MB\n"
     ]
    }
   ],
   "source": [
    "df_temp = df_pheno[['HID', 'Isolate', 'Antibiotic']].value_counts().reset_index(name='count')\n",
    "df_temp.info()"
   ]
  },
  {
   "cell_type": "code",
   "execution_count": 31,
   "metadata": {},
   "outputs": [
    {
     "data": {
      "text/plain": [
       "count                            56372\n",
       "mean     2018-08-26 18:12:47.826935040\n",
       "min                2018-07-01 01:29:00\n",
       "25%                2018-07-31 11:03:00\n",
       "50%                2018-08-24 15:32:00\n",
       "75%                2018-09-24 08:32:00\n",
       "max                2018-10-23 20:53:00\n",
       "Name: Received, dtype: object"
      ]
     },
     "execution_count": 31,
     "metadata": {},
     "output_type": "execute_result"
    }
   ],
   "source": [
    "df_pheno['Received'] = pd.to_datetime(df_pheno['Received'])\n",
    "df_pheno['Received'].describe(datetime_is_numeric=True)"
   ]
  },
  {
   "cell_type": "code",
   "execution_count": 35,
   "metadata": {},
   "outputs": [
    {
     "data": {
      "text/plain": [
       "88"
      ]
     },
     "execution_count": 35,
     "metadata": {},
     "output_type": "execute_result"
    }
   ],
   "source": [
    "len(df_pheno['Antibiotic'].unique())"
   ]
  },
  {
   "cell_type": "code",
   "execution_count": 43,
   "metadata": {},
   "outputs": [
    {
     "data": {
      "text/plain": [
       "['5-Fluorocytosine',\n",
       " 'AMOXICILLIN + CLAVULANATE',\n",
       " 'AZTREONAM',\n",
       " 'Amikacin',\n",
       " 'Amox/Clavulanic Acid',\n",
       " 'Amp/Sulbactam',\n",
       " 'Amphotericin B',\n",
       " 'Ampicillin',\n",
       " 'Ampicillin/Sulbactam',\n",
       " 'Anidulafungin',\n",
       " 'Aztreonam',\n",
       " 'CEFAZOLIN',\n",
       " 'CEFOXITIN',\n",
       " 'CEFTAZIDIME/AVIBACTAM',\n",
       " 'CEFTOLOZANE/TAZOBACTAM',\n",
       " 'COLISTIN',\n",
       " 'Caspofungin',\n",
       " 'Cefazolin',\n",
       " 'Cefepime',\n",
       " 'Cefotaxime',\n",
       " 'Cefotaxime w/Clavulanic Acid',\n",
       " 'Cefoxitin Screen',\n",
       " 'Ceftaroline',\n",
       " 'Ceftazidime',\n",
       " 'Ceftazidime w/Clavulanic Acid',\n",
       " 'Ceftazidime/avibactam',\n",
       " 'Ceftolozane/tazobactam',\n",
       " 'Ceftriaxone',\n",
       " 'Cefuroxime',\n",
       " 'Chloramphenicol',\n",
       " 'Ciprofloxacin',\n",
       " 'Clarithromycin',\n",
       " 'Clindamycin',\n",
       " 'Colistin',\n",
       " 'DOXYCYCLINE',\n",
       " 'Daptomycin',\n",
       " 'ESBL',\n",
       " 'ESBL - Cefotaxime',\n",
       " 'ESBL - Cefotaxime/Clavu',\n",
       " 'ESBL - Ceftazidime/Clavu',\n",
       " 'ESBL Confirmation:',\n",
       " 'Ertapenem',\n",
       " 'Erythromycin',\n",
       " 'FOSFOMYCIN',\n",
       " 'Fluconazole',\n",
       " 'Fosfomycin',\n",
       " 'Gentamicin',\n",
       " 'Gentamicin Synergy',\n",
       " 'Imipenem',\n",
       " 'Inducible Clindamycin',\n",
       " 'Inducible Clindamycin Resistance',\n",
       " 'Isavuconazole',\n",
       " 'Itraconazole',\n",
       " 'KB CONFIRMATION',\n",
       " 'KB Confirm',\n",
       " 'LINEZOLID',\n",
       " 'Levofloxacin',\n",
       " 'Linezolid',\n",
       " 'MOXIFLOXACIN',\n",
       " 'Meropenem',\n",
       " 'Micafungin',\n",
       " 'Minocycline',\n",
       " 'Moxifloxacin',\n",
       " 'Nitrofurantoin',\n",
       " 'Norfloxacin',\n",
       " 'Oxacillin',\n",
       " 'Penicillin',\n",
       " 'Penicillin Binding Protein 2A',\n",
       " 'Penicillin G',\n",
       " 'Pip/Taz',\n",
       " 'Piperacillin',\n",
       " 'Piperacillin/Tazobactam',\n",
       " 'Posaconazole',\n",
       " 'Rifampicin',\n",
       " 'Rifampin',\n",
       " 'Streptomycin Synergy',\n",
       " 'Sulfamethoxazole',\n",
       " 'Synercid',\n",
       " 'TIGECYCLINE',\n",
       " 'TRIMETHOPRIM + SULFAMETHOXAZOLE',\n",
       " 'Tetracycline',\n",
       " 'Ticarcillin/Clavulanic Acid',\n",
       " 'Tigecycline',\n",
       " 'Tobramycin',\n",
       " 'Trimeth/Sulfa',\n",
       " 'Trimethoprim/Sulfa',\n",
       " 'Vancomycin',\n",
       " 'Voriconazole']"
      ]
     },
     "execution_count": 43,
     "metadata": {},
     "output_type": "execute_result"
    }
   ],
   "source": [
    "sorted(df_pheno['Antibiotic'].unique())"
   ]
  },
  {
   "cell_type": "code",
   "execution_count": 45,
   "metadata": {},
   "outputs": [
    {
     "name": "stdout",
     "output_type": "stream",
     "text": [
      "124 ['Achromobacter dentrificans', 'Achromobacter species', 'Achromobacter xylosoxidans', 'Acinetobacter baumannii', 'Acinetobacter baumannii complex', 'Acinetobacter haemolyticus', 'Acinetobacter lwoffii', 'Acinetobacter radioresistens', 'Acinetobacter ursingii', 'Aerococcus urinae', 'Alpha-hemolytic strep', 'Bacillus cereus group', 'Bordetella', 'Brevundimonas diminuta', 'Burkholderia cepacia', 'Burkholderia cepacia group', 'Burkholderia gladioli', 'Burkholderia species', 'Candida albicans', 'Candida dubliniensis', 'Candida glabrata', 'Candida guilliermondii', 'Candida krusei', 'Candida lusitaniae', 'Candida parapsilosis', 'Candida tropicalis', 'Chryseobacterium indologenes', 'Citrobacter amalonaticus', 'Citrobacter braakii', 'Citrobacter freundii', 'Citrobacter koseri', 'Citrobacter species', 'Citrobacter youngae', 'Coagulase negative Staphylococcus', 'Coagulase positive Staphylococcus', 'Corynebacterium species', 'Curvularia species', 'Edwardsiella tarda', 'Enterobacter aerogenes', 'Enterobacter agglomerans group', 'Enterobacter amnigenus 2', 'Enterobacter cancerogenus', 'Enterobacter cloacae', 'Enterobacter cloacae complex', 'Enterobacter cloacae/ asburiae', 'Enterobacter intermedius', 'Enterobacter sakazakii', 'Enterobacter species', 'Enterococcus avium', 'Enterococcus casseliflavus', 'Enterococcus faecalis', 'Enterococcus faecium', 'Enterococcus gallinarum', 'Enterococcus raffinosus', 'Enterococcus species', 'Escherichia coli', 'Klebsiella oxytoca', 'Klebsiella pneumoniae', 'Klebsiella pneumoniae ssp pneumoniae', 'Klebsiella species', 'Kluyvera ascorbata', 'Leclercia adecarboxylata', 'Mold', 'Morganella morganii', 'Mycobacterium species', 'Myroides species', 'Nocardia farcinica', 'Nocardia species', 'Other', 'Oxacillin-resistant S. aureus', 'Pandoraea species', 'Pantoae agglomerans', 'Pantoea agglomerans', 'Pantoea species', 'Proteus mirabilis', 'Proteus species', 'Proteus vulgaris/penneri', 'Providencia rettgeri', 'Providencia stuartii', 'Pseudallescheria', 'Pseudomonas aeruginosa', 'Pseudomonas fluorescens', 'Pseudomonas putida', 'Pseudomonas species', 'Pseudomonas stutzeri', 'Ralstonia mannitolilytica', 'Ralstonia pickettii', 'Raoultella ornithinolytica', 'Raoultella planticola', 'Rhizobium radiobacter', 'Salmonella', 'Salmonella group', 'Serogroup A streptococcus', 'Serratia marcescens', 'Sphingobacterium multivorum', 'Sphingomonas paucimobilis', 'Staphylococcus aureus', 'Staphylococcus auricularis', 'Staphylococcus capitis', 'Staphylococcus caprae', 'Staphylococcus coagulase negative', 'Staphylococcus cohnii ssp urealyticus', 'Staphylococcus epidermidis', 'Staphylococcus haemolyticus', 'Staphylococcus hominis', 'Staphylococcus intermedius', 'Staphylococcus lugdunensis', 'Staphylococcus pseudointermedius', 'Staphylococcus schleiferi', 'Staphylococcus simulans', 'Staphylococcus warneri', 'Stenotrophomonas maltophilia', 'Streptococcus agalactiae (Group B)', 'Streptococcus anginosus', 'Streptococcus dysgalactiae ssp equisimilis', 'Streptococcus equisimilis', 'Streptococcus gallolyticus', 'Streptococcus gordonii', 'Streptococcus infantarius', 'Streptococcus intermedius', 'Streptococcus mitis/Streptococcus oralis', 'Streptococcus pneumoniae', 'Streptococcus salivarius', 'Viridans Streptococcus']\n"
     ]
    }
   ],
   "source": [
    "df_temp = df_pheno['Organism'].unique()\n",
    "print(len(df_temp), sorted(df_temp))"
   ]
  },
  {
   "cell_type": "code",
   "execution_count": 46,
   "metadata": {},
   "outputs": [
    {
     "name": "stdout",
     "output_type": "stream",
     "text": [
      "9 [' KB METHOD', ' KB METHOD; MANUAL METHOD', ' MANUAL METHOD', ' MICROSCAN', ' MYLA', ' PHENO ACCELERATE 1', ' PHENO ACCELERATE 1; MANUAL METHOD', ' VITEK II', ' VITEK II; MYLA']\n"
     ]
    }
   ],
   "source": [
    "df_temp = df_pheno['Method'].unique()\n",
    "print(len(df_temp), sorted(df_temp))"
   ]
  },
  {
   "attachments": {},
   "cell_type": "markdown",
   "metadata": {},
   "source": [
    "### Conclusion\n",
    "* There are 56372 observations in the Phenotype Data\n",
    "* `Source`, `Value` and `Antibiotic Interpretation` fields may contains `NULL`s\n",
    "* Even when `Value` is present, `Antibiotic Interpretation` may be `NULL`\n",
    "* Data corresponds to 3008 unique samples, representing 124 organisms tested across 88 antibiotics\n",
    "* Data is observed in 2018 between July 1st and October 23rd"
   ]
  }
 ],
 "metadata": {
  "kernelspec": {
   "display_name": "Python 3.10.6 64-bit",
   "language": "python",
   "name": "python3"
  },
  "language_info": {
   "codemirror_mode": {
    "name": "ipython",
    "version": 3
   },
   "file_extension": ".py",
   "mimetype": "text/x-python",
   "name": "python",
   "nbconvert_exporter": "python",
   "pygments_lexer": "ipython3",
   "version": "3.10.6"
  },
  "orig_nbformat": 4,
  "vscode": {
   "interpreter": {
    "hash": "26de051ba29f2982a8de78e945f0abaf191376122a1563185a90213a26c5da77"
   }
  }
 },
 "nbformat": 4,
 "nbformat_minor": 2
}
